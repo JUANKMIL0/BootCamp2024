{
  "nbformat": 4,
  "nbformat_minor": 0,
  "metadata": {
    "colab": {
      "provenance": [],
      "authorship_tag": "ABX9TyM+bhyk8WBl90e2nPV04/Dq",
      "include_colab_link": true
    },
    "kernelspec": {
      "name": "python3",
      "display_name": "Python 3"
    },
    "language_info": {
      "name": "python"
    }
  },
  "cells": [
    {
      "cell_type": "markdown",
      "metadata": {
        "id": "view-in-github",
        "colab_type": "text"
      },
      "source": [
        "<a href=\"https://colab.research.google.com/github/JUANKMIL0/BootCamp2024/blob/main/S1_C1_InteresCompuesto.ipynb\" target=\"_parent\"><img src=\"https://colab.research.google.com/assets/colab-badge.svg\" alt=\"Open In Colab\"/></a>"
      ]
    },
    {
      "cell_type": "markdown",
      "source": [
        "# **Semana 1. Clase 1**\n",
        "Caso: Indicadores financieros\n",
        "\n",
        "\n",
        "Reto : Tengo $1.000.000  quiero duplicarlos\n",
        "¿Cuánto tiempo tardaré en duplicar mi dinero si la tasa de interés anual es del 8.5%, con una capitalización anual?\n",
        "\n",
        "\n",
        "n = (Log (A/P))/log(1+i)\n",
        "\n"
      ],
      "metadata": {
        "id": "qE0PjOPHeuJP"
      }
    },
    {
      "cell_type": "markdown",
      "source": [
        "Interes Simple"
      ],
      "metadata": {
        "id": "4WjBw3ehkDbj"
      }
    },
    {
      "cell_type": "code",
      "execution_count": 2,
      "metadata": {
        "id": "L0AuD2d2b7Kv",
        "colab": {
          "base_uri": "https://localhost:8080/"
        },
        "outputId": "6423371b-40f8-43f5-e54f-a5d1b3f7b2f1"
      },
      "outputs": [
        {
          "output_type": "execute_result",
          "data": {
            "text/plain": [
              "110.0"
            ]
          },
          "metadata": {},
          "execution_count": 2
        }
      ],
      "source": [
        "p=100\n",
        "i=0.10\n",
        "n=1\n",
        "\n",
        "\n",
        "p+(p*i*n)"
      ]
    },
    {
      "cell_type": "markdown",
      "source": [
        "Calcular intertes compuesto"
      ],
      "metadata": {
        "id": "Hszh3dAed6q1"
      }
    },
    {
      "cell_type": "code",
      "source": [
        "p=1000000\n",
        "i=0.85\n",
        "n=5\n",
        "\n",
        "p*(1+i)**n"
      ],
      "metadata": {
        "colab": {
          "base_uri": "https://localhost:8080/"
        },
        "id": "fL_fJ0wCe3ji",
        "outputId": "b556994e-bc2a-4c3c-bbff-43dac8f146dc"
      },
      "execution_count": 6,
      "outputs": [
        {
          "output_type": "execute_result",
          "data": {
            "text/plain": [
              "2166.9986562500003"
            ]
          },
          "metadata": {},
          "execution_count": 6
        }
      ]
    },
    {
      "cell_type": "markdown",
      "source": [
        "Importar librerias"
      ],
      "metadata": {
        "id": "LeELaPqVj3IH"
      }
    },
    {
      "cell_type": "code",
      "source": [
        "import math as mt"
      ],
      "metadata": {
        "id": "_1KlZXk9jy2y"
      },
      "execution_count": 9,
      "outputs": []
    },
    {
      "cell_type": "code",
      "source": [
        "A= 2000000 #Valor Futuro\n",
        "P= 1000000 #Valor Presente\n",
        "i= 0.085 # interes\n",
        "\n",
        "n = mt.log(A/P) / mt.log(1+i)\n",
        "n= round(n,0)\n",
        "print(\"El tiempo necesario para duplicar el capital es: \",n,\"años\")"
      ],
      "metadata": {
        "colab": {
          "base_uri": "https://localhost:8080/"
        },
        "id": "nT93n9VZkQSD",
        "outputId": "fbde183d-c6c0-470d-8aa0-7cbe2ff6f94b"
      },
      "execution_count": 17,
      "outputs": [
        {
          "output_type": "stream",
          "name": "stdout",
          "text": [
            "El tiempo necesario para duplicar el capital es:  8.0 años\n"
          ]
        }
      ]
    },
    {
      "cell_type": "markdown",
      "source": [
        "# **Funciones**"
      ],
      "metadata": {
        "id": "1LrcZig0uxdo"
      }
    },
    {
      "cell_type": "code",
      "source": [
        "#Funcion para sumar dos numeros\n",
        "def suma(A,B):\n",
        "  return A+B\n",
        "\n",
        "#Funcion para restar dos nuimeros\n",
        "def resta(A,B):\n",
        "  return A-B\n"
      ],
      "metadata": {
        "id": "IOzHmKaQuGSP"
      },
      "execution_count": 19,
      "outputs": []
    },
    {
      "cell_type": "code",
      "source": [
        "a = suma(2,4)\n",
        "b = resta(4,2)\n",
        "\n",
        "print(\"el valor de la Suma es = \",a)\n",
        "print(\"el valor de la Resta es = \",b)\n"
      ],
      "metadata": {
        "colab": {
          "base_uri": "https://localhost:8080/"
        },
        "id": "ga5gYeMWvGsB",
        "outputId": "a1d72778-b98d-4d14-f0c3-df8a2aa1dcf6"
      },
      "execution_count": 23,
      "outputs": [
        {
          "output_type": "stream",
          "name": "stdout",
          "text": [
            "el valor de la Suma es =  6\n",
            "el valor de la Resta es =  2\n"
          ]
        }
      ]
    }
  ]
}